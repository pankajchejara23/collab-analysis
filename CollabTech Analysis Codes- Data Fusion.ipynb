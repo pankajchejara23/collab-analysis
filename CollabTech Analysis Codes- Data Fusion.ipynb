{
 "cells": [
  {
   "cell_type": "markdown",
   "metadata": {},
   "source": [
    "# Preprocessing: Data fusion\n",
    "This notebook analyzes data collected from CoTrack (Audio and Logs) with the collaboration labels (Annotated by two raters, with cohen's kappa > substantial agreement)"
   ]
  },
  {
   "cell_type": "code",
   "execution_count": 1,
   "metadata": {},
   "outputs": [],
   "source": [
    "import pandas as pd\n",
    "import matplotlib.pyplot as plt\n",
    "import librosa\n",
    "import seaborn as sns\n",
    "import math\n",
    "\n",
    "from sklearn import linear_model\n",
    "from sklearn.linear_model import Ridge\n",
    "from sklearn.linear_model import Lasso\n",
    "from sklearn.linear_model import LinearRegression\n",
    "from sklearn.preprocessing import PolynomialFeatures\n",
    "from sklearn.pipeline import make_pipeline\n",
    "\n",
    "import warnings\n",
    "warnings.filterwarnings('ignore')"
   ]
  },
  {
   "cell_type": "code",
   "execution_count": 2,
   "metadata": {},
   "outputs": [],
   "source": [
    "\n",
    "\n",
    "# Logs and Audio features (e.g. speaking time, speaking sequence, number of chars added or deleted)\n",
    "features = pd.read_csv('sch1_group-1.csv')\n",
    "\n",
    "\n",
    "# Logs and Audio features for group-2\n",
    "features2 = pd.read_csv('sch1_group-2.csv')\n"
   ]
  },
  {
   "cell_type": "code",
   "execution_count": 3,
   "metadata": {},
   "outputs": [],
   "source": [
    "\n",
    "# Collaboration labels for group-1\n",
    "labels = pd.read_csv('coder2final.csv')\n",
    "\n",
    "\n",
    "# Collaboration labels for group-2\n",
    "labels2 = pd.read_csv('sch1_group-2_collaboration_scores.csv')\n",
    "\n"
   ]
  },
  {
   "cell_type": "code",
   "execution_count": 4,
   "metadata": {},
   "outputs": [
    {
     "name": "stdout",
     "output_type": "stream",
     "text": [
      "Total number of frames (30 sec): 121\n"
     ]
    }
   ],
   "source": [
    "#print('Number of frames (30 sec each) for group-1:',features.shape[0],labels.shape[0])\n",
    "#print('Number of frames (30 sec each) for group-2:',features2.shape[0],labels2.shape[0])\n",
    "print('Total number of frames (30 sec):',(features2.shape[0]+features.shape[0]))\n",
    "#features[['u1_add', 'u1_del', 'u2_add', 'u2_del','u3_add', 'u3_del', 'u4_add', 'u4_del', 'u1_speak', 'u2_speak', 'u3_speak','u4_speak']]"
   ]
  },
  {
   "cell_type": "markdown",
   "metadata": {},
   "source": [
    "## Computing Final Collaboration Scores"
   ]
  },
  {
   "cell_type": "code",
   "execution_count": 5,
   "metadata": {},
   "outputs": [],
   "source": [
    "def computeFinalScore(rater1):\n",
    "    rater1['ITO'] = (rater1['u1'] + rater1['u2'] + rater1['u3'] + rater1['u4'])/4\n",
    "    rater1['final'] = 0\n",
    "    for dim in ['SMU','CF','KE','ARG','STR','CO','ITO']:\n",
    "        rater1['final'] = rater1['final'] + rater1[dim]\n",
    "    return rater1['final']"
   ]
  },
  {
   "cell_type": "code",
   "execution_count": 6,
   "metadata": {},
   "outputs": [
    {
     "data": {
      "text/plain": [
       "Index(['ARG', 'CF', 'CO', 'ITO', 'KE', 'SMU', 'STR', 'end', 'final', 'frame',\n",
       "       'notes', 'start', 'u1', 'u2', 'u3', 'u4'],\n",
       "      dtype='object')"
      ]
     },
     "execution_count": 6,
     "metadata": {},
     "output_type": "execute_result"
    }
   ],
   "source": [
    "labels['final'] = computeFinalScore(labels)\n",
    "labels2['final'] = computeFinalScore(labels2)\n",
    "\n",
    "total_collab = pd.concat([labels,labels2],axis=0,ignore_index=True)\n",
    "total_collab.columns"
   ]
  },
  {
   "cell_type": "code",
   "execution_count": 7,
   "metadata": {},
   "outputs": [],
   "source": [
    "final_labels = total_collab[['ARG','CF','CO','ITO','KE','SMU','STR','final']]\n",
    "y = final_labels['final']"
   ]
  },
  {
   "cell_type": "markdown",
   "metadata": {},
   "source": [
    "### Distribution of Collaboration Scores"
   ]
  },
  {
   "cell_type": "code",
   "execution_count": 14,
   "metadata": {},
   "outputs": [
    {
     "data": {
      "text/plain": [
       "Text(0.5, 1.0, 'Distibution of Collaboration Scores for both groups ')"
      ]
     },
     "execution_count": 14,
     "metadata": {},
     "output_type": "execute_result"
    },
    {
     "data": {
      "image/png": "[encoded data removed]",
      "text/plain": [
       "<Figure size 432x288 with 1 Axes>"
      ]
     },
     "metadata": {
      "needs_background": "light"
     },
     "output_type": "display_data"
    }
   ],
   "source": [
    "# Density Plot of Collboration Scores\n",
    "plt.figure()\n",
    "sns.distplot(labels['final'], hist=True, kde=True,  color = 'green', hist_kws={'edgecolor':'black'},kde_kws={'linewidth': 2},label=\"group-1\")\n",
    "sns.distplot(labels2['final'], hist=True, kde=True,  color = 'red', hist_kws={'edgecolor':'black'},kde_kws={'linewidth': 2},label=\"group-2\")\n",
    "plt.xlabel('Collaboration scores')\n",
    "plt.ylabel('Probability')\n",
    "plt.legend()\n",
    "plt.title('Distibution of Collaboration Scores for both groups ')"
   ]
  },
  {
   "cell_type": "markdown",
   "metadata": {},
   "source": [
    "## Computing group-level features\n",
    "We have used three fusion techniques for mapping collected individual data into group-level measures. These techniques are \n",
    " * Entropy based fusion\n",
    " * Dimensionality reduction fusion\n",
    " * Average based \n",
    " \n",
    " Smith et al. [1] used Entropy-based fusion (Shanon entropy) to compute group-level features from individual features (30s time window)."
   ]
  },
  {
   "cell_type": "markdown",
   "metadata": {},
   "source": [
    "### Entropy-based fusion\n",
    "We computed three features at group-level (e.g., speaking time, characters added, and deleted) using Shanon Entropy."
   ]
  },
  {
   "cell_type": "code",
   "execution_count": 6,
   "metadata": {},
   "outputs": [],
   "source": [
    "# Computing Shanon Entropy for group-level features: Group-1\n",
    "\n",
    "NO_USERS=4\n",
    "\n",
    "features['group-speak'] = 0\n",
    "features['group-no-speak'] = 30 - (features['u1_speak'] + features['u2_speak'] + features['u3_speak'] + features['u4_speak'])\n",
    "features['group-add'] = 0\n",
    "features['group-del'] = 0\n",
    "\n",
    "for i in range(features.shape[0]):\n",
    "    total_speak = features['u1_speak'] + features['u2_speak'] + features['u3_speak'] + features['u4_speak']\n",
    "    total_add = features['u1_add'] + features['u2_add'] + features['u3_add'] + features['u4_add']\n",
    "    total_del = features['u1_del'] + features['u2_del'] + features['u3_del'] + features['u4_del']\n",
    "    \n",
    "    entropy_spk = 0.0\n",
    "    entropy_add = 0.0\n",
    "    entropy_del = 0.0\n",
    "    \n",
    "\n",
    "    \n",
    "    for j in range(NO_USERS):\n",
    "        col_speak = 'u{}_speak'.format(str(j+1))\n",
    "        col_add = 'u{}_add'.format(str(j+1))\n",
    "        col_del = 'u{}_del'.format(str(j+1))\n",
    "        \n",
    "        \n",
    "        \n",
    "        \n",
    "        \n",
    "        # Entropy-based fusion\n",
    "        \n",
    "        if features.loc[i,col_speak] == 0:\n",
    "            entropy_spk = entropy_spk + 0\n",
    "        else:\n",
    "            prob_spk = features.loc[i,col_speak]/(1.0*total_speak[i])\n",
    "            entropy_spk = entropy_spk + prob_spk * math.log(1/prob_spk,2)\n",
    "        \n",
    "        if features.loc[i,col_add] == 0:\n",
    "            entropy_add = entropy_add + 0\n",
    "        else:\n",
    "            prob_add = features.loc[i,col_add]/(1.0*total_add[i])\n",
    "            entropy_add = entropy_add + prob_add * math.log(1/prob_add,2)\n",
    "        \n",
    "        if features.loc[i,col_del] == 0:\n",
    "            entropy_del = entropy_del + 0\n",
    "        else:\n",
    "            prob_del = features.loc[i,col_del]/(1.0*total_del[i])\n",
    "            entropy_del = entropy_del + prob_del * math.log(1/prob_del,2)\n",
    "\n",
    "        \n",
    "        \n",
    "        \n",
    "    features.loc[i,'group-speak'] = entropy_spk\n",
    "    features.loc[i,'group-add'] = entropy_add\n",
    "    features.loc[i,'group-del'] = entropy_del"
   ]
  },
  {
   "cell_type": "code",
   "execution_count": 7,
   "metadata": {},
   "outputs": [],
   "source": [
    "# Computing Shanon Entropy for group-level features: Group-2\n",
    "\n",
    "NO_USERS=4\n",
    "\n",
    "features2['group-no-speak'] = 30 - (features2['u1_speak'] + features2['u2_speak'] + features2['u3_speak'] + features2['u4_speak'])\n",
    "features2['group-speak'] = 0\n",
    "features2['group-add'] = 0\n",
    "features2['group-del'] = 0\n",
    "\n",
    "for i in range(features2.shape[0]):\n",
    "    total_speak = features2['u1_speak'] + features2['u2_speak'] + features2['u3_speak'] + features2['u4_speak']\n",
    "    total_add = features2['u1_add'] + features2['u2_add'] + features2['u3_add'] + features2['u4_add']\n",
    "    total_del = features2['u1_del'] + features2['u2_del'] + features2['u3_del'] + features2['u4_del']\n",
    "    \n",
    "    entropy_spk = 0.0\n",
    "    entropy_add = 0.0\n",
    "    entropy_del = 0.0\n",
    "    \n",
    "\n",
    "    \n",
    "    for j in range(NO_USERS):\n",
    "        col_speak = 'u{}_speak'.format(str(j+1))\n",
    "        col_add = 'u{}_add'.format(str(j+1))\n",
    "        col_del = 'u{}_del'.format(str(j+1))\n",
    "        \n",
    "        \n",
    "        \n",
    "        \n",
    "        \n",
    "        # Entropy-based fusion\n",
    "        \n",
    "        if features2.loc[i,col_speak] == 0:\n",
    "            entropy_spk = entropy_spk + 0\n",
    "        else:\n",
    "            prob_spk = features2.loc[i,col_speak]/(1.0*total_speak[i])\n",
    "            entropy_spk = entropy_spk + prob_spk * math.log(1/prob_spk,2)\n",
    "        \n",
    "        if features2.loc[i,col_add] == 0:\n",
    "            entropy_add = entropy_add + 0\n",
    "        else:\n",
    "            prob_add = features2.loc[i,col_add]/(1.0*total_add[i])\n",
    "            entropy_add = entropy_add + prob_add * math.log(1/prob_add,2)\n",
    "        \n",
    "        if features2.loc[i,col_del] == 0:\n",
    "            entropy_del = entropy_del + 0\n",
    "        else:\n",
    "            prob_del = features2.loc[i,col_del]/(1.0*total_del[i])\n",
    "            entropy_del = entropy_del + prob_del * math.log(1/prob_del,2)\n",
    "\n",
    "        \n",
    "        \n",
    "        \n",
    "    features2.loc[i,'group-speak'] = entropy_spk\n",
    "    features2.loc[i,'group-add'] = entropy_add\n",
    "    features2.loc[i,'group-del'] = entropy_del"
   ]
  },
  {
   "cell_type": "markdown",
   "metadata": {},
   "source": [
    "### Average of individual-level feature"
   ]
  },
  {
   "cell_type": "code",
   "execution_count": 8,
   "metadata": {},
   "outputs": [],
   "source": [
    "# Computing average for group-level features\n",
    "\n",
    "NO_USERS=4\n",
    "\n",
    "features['avg_group-speak'] = (features['u1_speak'] + features['u2_speak'] + features['u3_speak'] + features['u4_speak'])/4.0\n",
    "\n",
    "features['avg_group-add'] = (features['u1_add'] + features['u2_add'] + features['u3_add'] + features['u4_add'])/4.0\n",
    "features['avg_group-del'] = (features['u1_del'] + features['u2_del'] + features['u3_del'] + features['u4_del'])/4.0\n",
    "\n",
    "# Group-2\n",
    "features2['avg_group-speak'] = (features2['u1_speak'] + features2['u2_speak'] + features2['u3_speak'] + features2['u4_speak'])/4.0\n",
    "\n",
    "features2['avg_group-add'] = (features2['u1_add'] + features2['u2_add'] + features2['u3_add'] + features2['u4_add'])/4.0\n",
    "features2['avg_group-del'] = (features2['u1_del'] + features2['u2_del'] + features2['u3_del'] + features2['u4_del'])/4.0\n",
    "\n",
    "\n",
    "\n",
    "\n",
    "A1 = pd.concat([features['avg_group-speak'],features['avg_group-add'],features['avg_group-del']], axis=1)\n",
    "B1 = pd.concat([features2['avg_group-speak'],features2['avg_group-add'],features2['avg_group-del']], axis=1)\n",
    "X_avg = pd.concat([A1,B1])\n"
   ]
  },
  {
   "cell_type": "markdown",
   "metadata": {},
   "source": [
    "### Dimensionality Reduction based fusion"
   ]
  },
  {
   "cell_type": "code",
   "execution_count": 9,
   "metadata": {},
   "outputs": [
    {
     "name": "stdout",
     "output_type": "stream",
     "text": [
      "Explained Variance group-1: 0.9853168560394207\n",
      "Explained Variance group-2: 0.9366498472364618\n"
     ]
    }
   ],
   "source": [
    "from sklearn.decomposition import PCA\n",
    "import numpy as np\n",
    "\n",
    "student_features = features[[ 'u1_add', 'u1_del', 'u2_add', 'u2_del','u3_add', 'u3_del', 'u4_add', 'u4_del','u1_speak', 'u2_speak', 'u3_speak','u4_speak']]\n",
    "pca = PCA(n_components=4)\n",
    "pca_features = pca.fit_transform(student_features)\n",
    "print('Explained Variance group-1:',pca.explained_variance_ratio_.sum())\n",
    "\n",
    "features['pca_group_feature1'] = pca_features[:,0]\n",
    "features['pca_group_feature2'] = pca_features[:,1]\n",
    "features['pca_group_feature3'] = pca_features[:,2]\n",
    "features['pca_group_feature4'] = pca_features[:,3]\n",
    "\n",
    "\n",
    "student_features2 = features2[[ 'u1_add', 'u1_del', 'u2_add', 'u2_del','u3_add', 'u3_del', 'u4_add', 'u4_del','u1_speak', 'u2_speak', 'u3_speak','u4_speak']]\n",
    "pca2 = PCA(n_components=4)\n",
    "pca_features2 = pca2.fit_transform(student_features2)\n",
    "print('Explained Variance group-2:',pca2.explained_variance_ratio_.sum())\n",
    "\n",
    "features2['pca_group_feature1'] = pca_features2[:,0]\n",
    "features2['pca_group_feature2'] = pca_features2[:,1]\n",
    "features2['pca_group_feature3'] = pca_features2[:,2]\n",
    "features2['pca_group_feature4'] = pca_features2[:,3]\n",
    "\n",
    "\n",
    "\n",
    "\n",
    "X_pca = np.concatenate((pca_features,pca_features2),axis=0)\n"
   ]
  },
  {
   "cell_type": "code",
   "execution_count": 10,
   "metadata": {},
   "outputs": [],
   "source": [
    "total_features = pd.concat([features,features2],axis=0,ignore_index=True)\n",
    "csv_features = total_features[['u1_add','u1_del','u1_speak','u2_add','u2_del','u2_speak','u3_add','u3_del','u3_speak','u4_add','u4_del','u4_speak','group-no-speak','group-add','group-del','group-speak','avg_group-add','avg_group-del','avg_group-speak','pca_group_feature1','pca_group_feature2','pca_group_feature3','pca_group_feature4']]\n",
    "\n",
    "csv_features.to_csv('features.csv',index=False)\n",
    "\n"
   ]
  },
  {
   "cell_type": "markdown",
   "metadata": {},
   "source": [
    "## Preparing data for machine learning algorithms"
   ]
  },
  {
   "cell_type": "code",
   "execution_count": 11,
   "metadata": {},
   "outputs": [],
   "source": [
    "from sklearn.model_selection import train_test_split\n",
    "from sklearn.preprocessing import StandardScaler\n",
    "from sklearn.datasets import make_moons, make_circles, make_classification\n",
    "from sklearn.neural_network import MLPClassifier\n",
    "from sklearn.neighbors import KNeighborsClassifier\n",
    "from sklearn.svm import SVC\n",
    "from sklearn.gaussian_process import GaussianProcessClassifier\n",
    "from sklearn.gaussian_process.kernels import RBF\n",
    "from sklearn.tree import DecisionTreeClassifier\n",
    "from sklearn.ensemble import RandomForestClassifier, AdaBoostClassifier\n",
    "from sklearn.naive_bayes import GaussianNB\n",
    "from sklearn.discriminant_analysis import QuadraticDiscriminantAnalysis\n",
    "from sklearn import metrics"
   ]
  },
  {
   "cell_type": "code",
   "execution_count": 22,
   "metadata": {},
   "outputs": [],
   "source": [
    "# Adding features and collaboration labels from both groups\n",
    "\n",
    "A = pd.concat([features['group-speak'],features['group-add'],features['group-del']], axis=1)\n",
    "B = pd.concat([features2['group-speak'],features2['group-add'],features2['group-del']], axis=1)\n",
    "X_ent = pd.concat([A,B])"
   ]
  },
  {
   "cell_type": "markdown",
   "metadata": {},
   "source": [
    "## Exploring Regression with different fusion approaches"
   ]
  },
  {
   "cell_type": "code",
   "execution_count": 29,
   "metadata": {},
   "outputs": [],
   "source": [
    "import warnings\n",
    "warnings.filterwarnings('ignore')\n",
    "\n",
    "import pandas as pd\n",
    "import matplotlib.pyplot as plt\n",
    "import librosa\n",
    "import seaborn as sns\n",
    "import math\n",
    "from sklearn.metrics import mean_squared_error\n",
    "from sklearn.metrics import mean_absolute_error\n",
    "\n",
    "from sklearn.linear_model import LinearRegression, Ridge, Lasso, ElasticNet, Lars, BayesianRidge, SGDRegressor, RANSACRegressor\n",
    "from sklearn.kernel_ridge import KernelRidge\n",
    "from sklearn.tree import DecisionTreeRegressor\n",
    "from sklearn.svm import SVR\n",
    "from sklearn.neighbors import KNeighborsRegressor\n",
    "from sklearn.ensemble import RandomForestRegressor, ExtraTreesRegressor, AdaBoostRegressor, GradientBoostingRegressor, VotingRegressor, StackingRegressor\n",
    "from xgboost import XGBRegressor\n",
    "#from lightgbm import LGBMRegressor\n",
    "from sklearn.neural_network import MLPRegressor\n"
   ]
  },
  {
   "cell_type": "code",
   "execution_count": 58,
   "metadata": {},
   "outputs": [],
   "source": [
    "\n",
    "def exploreRegression(X,y,label):\n",
    "    seed = 40\n",
    "    X_train, X_test, y_train, y_test = train_test_split(X,y, test_size=0.3, random_state=0)\n",
    "    \n",
    "    svm = SVR(C=50,gamma=.1,kernel='rbf')\n",
    "    knn = KNeighborsRegressor(n_neighbors=5)\n",
    "    rf =  RandomForestRegressor(n_estimators=50,max_depth=2,min_samples_split=5,random_state=seed)\n",
    "\n",
    "    ab = AdaBoostRegressor(n_estimators=100,learning_rate=.001,loss='linear',random_state=seed)\n",
    "    gb = GradientBoostingRegressor(n_estimators=100,learning_rate=.001,loss='lad',min_samples_split=3,random_state=seed)\n",
    "    xgb = XGBRegressor(booster='gbtree',max_depth=2,random_state=seed)\n",
    "\n",
    "   \n",
    "\n",
    "\n",
    "\n",
    "    voting = VotingRegressor([('knn',knn),('ada',ab),('rand',rf)])\n",
    "    mlp = MLPRegressor(activation='tanh',hidden_layer_sizes=(5,5),solver='lbfgs')\n",
    "\n",
    "    regression_models = [svm,knn,rf,ab,gb,xgb,voting,mlp]\n",
    "    regression_labels = ['SVM','KNN','Random Forest','Adaboost Regressor','Gradient Boost Regressor','XGB Regressor','Voting','Neural Net']\n",
    "\n",
    "    print('#'*50)\n",
    "    print('                Performance on ',label)\n",
    "    print('#'*50)\n",
    "    for i in range(len(regression_models)):\n",
    "        regression_models[i].fit(X_train,y_train)\n",
    "        #print(regression_labels[i],' Train:   RMSE->',mean_squared_error(y_train,regression_models[i].predict(X_train),squared=False),'MAE->',mean_absolute_error(y_train,regression_models[i].predict(X_train)))\n",
    "\n",
    "        print(regression_labels[i],' Test:  RMSE->',mean_squared_error(y_test,regression_models[i].predict(X_test),squared=False),'MAE->',mean_absolute_error(y_test,regression_models[i].predict(X_test)))\n"
   ]
  },
  {
   "cell_type": "code",
   "execution_count": 62,
   "metadata": {},
   "outputs": [
    {
     "name": "stdout",
     "output_type": "stream",
     "text": [
      "##################################################\n",
      "                Performance on  Entropy-based Fusion\n",
      "##################################################\n",
      "SVM  Test:  RMSE-> 7.135464118051081 MAE-> 5.604670177470271\n",
      "KNN  Test:  RMSE-> 7.391521805054395 MAE-> 6.062162162162162\n",
      "Random Forest  Test:  RMSE-> 6.530261023243199 MAE-> 5.352692186299678\n",
      "Adaboost Regressor  Test:  RMSE-> 7.833311461030371 MAE-> 6.185983982424342\n",
      "Gradient Boost Regressor  Test:  RMSE-> 6.5909384760413445 MAE-> 5.456603053999929\n",
      "[21:22:55] WARNING: src/objective/regression_obj.cu:152: reg:linear is now deprecated in favor of reg:squarederror.\n",
      "XGB Regressor  Test:  RMSE-> 8.16614787005538 MAE-> 6.266705199673369\n",
      "Voting  Test:  RMSE-> 7.065916671795648 MAE-> 5.77551456054959\n",
      "Neural Net  Test:  RMSE-> 7.17007687815274 MAE-> 5.827359229290228\n"
     ]
    }
   ],
   "source": [
    "exploreRegression(X_ent,y,'Entropy-based Fusion')"
   ]
  },
  {
   "cell_type": "code",
   "execution_count": 60,
   "metadata": {},
   "outputs": [
    {
     "name": "stdout",
     "output_type": "stream",
     "text": [
      "##################################################\n",
      "                Performance on  PCA Fusion\n",
      "##################################################\n",
      "SVM  Test:  RMSE-> 4.460802482942428 MAE-> 3.5625039100410087\n",
      "KNN  Test:  RMSE-> 5.099383905553319 MAE-> 4.320270270270269\n",
      "Random Forest  Test:  RMSE-> 4.866205072952463 MAE-> 3.8499801238484834\n",
      "Adaboost Regressor  Test:  RMSE-> 5.265175485797224 MAE-> 3.9771381786548567\n",
      "Gradient Boost Regressor  Test:  RMSE-> 6.3454457767955414 MAE-> 5.197486215717995\n",
      "[21:19:39] WARNING: src/objective/regression_obj.cu:152: reg:linear is now deprecated in favor of reg:squarederror.\n",
      "XGB Regressor  Test:  RMSE-> 5.763575650108265 MAE-> 4.466041300747846\n",
      "Voting  Test:  RMSE-> 4.841185319867135 MAE-> 3.9036382891804275\n",
      "Neural Net  Test:  RMSE-> 6.002752498846212 MAE-> 4.877874595185446\n"
     ]
    }
   ],
   "source": [
    "exploreRegression(X_pca,y,'PCA Fusion')"
   ]
  },
  {
   "cell_type": "code",
   "execution_count": 61,
   "metadata": {},
   "outputs": [
    {
     "name": "stdout",
     "output_type": "stream",
     "text": [
      "##################################################\n",
      "                Performance on  Average Fusion\n",
      "##################################################\n",
      "SVM  Test:  RMSE-> 7.12162539066774 MAE-> 5.952793540836933\n",
      "KNN  Test:  RMSE-> 7.687190995767271 MAE-> 6.101351351351352\n",
      "Random Forest  Test:  RMSE-> 7.480024731693995 MAE-> 5.685620391706585\n",
      "Adaboost Regressor  Test:  RMSE-> 7.65730747305164 MAE-> 5.931441045355522\n",
      "Gradient Boost Regressor  Test:  RMSE-> 6.5687315674266475 MAE-> 5.332139014451139\n",
      "[21:19:41] WARNING: src/objective/regression_obj.cu:152: reg:linear is now deprecated in favor of reg:squarederror.\n",
      "XGB Regressor  Test:  RMSE-> 7.82322918535106 MAE-> 5.942637429849522\n",
      "Voting  Test:  RMSE-> 7.474839216091283 MAE-> 5.775791926878182\n",
      "Neural Net  Test:  RMSE-> 8.3673349237842 MAE-> 6.835104476901599\n"
     ]
    }
   ],
   "source": [
    "exploreRegression(X_avg,y,'Average Fusion')"
   ]
  },
  {
   "cell_type": "code",
   "execution_count": 25,
   "metadata": {},
   "outputs": [
    {
     "name": "stderr",
     "output_type": "stream",
     "text": [
      "The PostScript backend does not support transparency; partially transparent artists will be rendered opaque.\n",
      "The PostScript backend does not support transparency; partially transparent artists will be rendered opaque.\n"
     ]
    },
    {
     "data": {
      "text/plain": [
       "<Figure size 576x360 with 0 Axes>"
      ]
     },
     "metadata": {},
     "output_type": "display_data"
    },
    {
     "data": {
      "image/png": "[encoded data removed]",
      "text/plain": [
       "<Figure size 360x331.2 with 1 Axes>"
      ]
     },
     "metadata": {
      "needs_background": "light"
     },
     "output_type": "display_data"
    }
   ],
   "source": [
    "import numpy as np\n",
    "plt.figure(figsize=(8,5))\n",
    "ent_error = [7.39,6.53,7.83,6.59,8.16,7.06,7.17,7.13]\n",
    "pca_error = [5.09,4.86,5.26,6.34,5.76,4.84,6,4.46]\n",
    "avg_error = [7.68,7.48,7.65,6.56,7.82,7.47,8.36,7.12]\n",
    "x_label=['KNN','Random Forest','AdaBoost','Gradient Boost','XGBoost','Voting','Neural Net','SVM']\n",
    "\n",
    "x = np.arange(len(x_label))\n",
    "w=.3\n",
    "\n",
    "fig, ax = plt.subplots()\n",
    "fig.set_figheight(4.6)\n",
    "fig.set_figwidth(5)\n",
    "\n",
    "ax.set_xticks(x+w/2)\n",
    "ax.set_xticklabels(x_label,rotation=90)\n",
    "\n",
    "\n",
    "\n",
    "\n",
    "ax.plot(x,ent_error,label='entropy-fusion',marker='o')\n",
    "ax.plot(x,pca_error,label='pca-fusion',marker='d')\n",
    "ax.plot(x,avg_error,label='average-fusion',marker='v')\n",
    "\n",
    "ax.set_ylabel('RMSE')\n",
    "ax.set_xlabel('Regression Methods')\n",
    "\n",
    "ax.hlines(2.06,-0.1,8,color='blue',linestyles='dashed',label='RMSE human-coders')\n",
    "ax.set_title('Test data RMSE for regression models')\n",
    "ax.legend()\n",
    "fig.tight_layout()\n",
    "plt.savefig('fusion.eps')"
   ]
  },
  {
   "cell_type": "code",
   "execution_count": null,
   "metadata": {},
   "outputs": [],
   "source": []
  }
 ],
 "metadata": {
  "hide_input": false,
  "kernelspec": {
   "display_name": "Python 3",
   "language": "python",
   "name": "python3"
  },
  "language_info": {
   "codemirror_mode": {
    "name": "ipython",
    "version": 3
   },
   "file_extension": ".py",
   "mimetype": "text/x-python",
   "name": "python",
   "nbconvert_exporter": "python",
   "pygments_lexer": "ipython3",
   "version": "3.7.3"
  },
  "toc": {
   "base_numbering": 1,
   "nav_menu": {},
   "number_sections": true,
   "sideBar": true,
   "skip_h1_title": false,
   "title_cell": "Table of Contents",
   "title_sidebar": "Contents",
   "toc_cell": false,
   "toc_position": {},
   "toc_section_display": true,
   "toc_window_display": false
  }
 },
 "nbformat": 4,
 "nbformat_minor": 2
}
