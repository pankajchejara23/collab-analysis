{
 "cells": [
  {
   "cell_type": "markdown",
   "metadata": {},
   "source": [
    "# Estimating collaboration in collocated blended settings using logs and audio data with help of regression analysis\n",
    "This notebook contains code to investigate the feasibiliyt of logs and audio data collected using CoTrack to predict collaboration score using regression analysis. Previous studies have modeled the collaboration using machine learning classficication algorithms. However, to the best of our knowledge, no attempt has been made to model collaboration behavior using regression analysis.\n",
    "We present our analysis results which shows that it is feasible to estimate collaboration score as interval variable using regression analysis."
   ]
  },
  {
   "cell_type": "code",
   "execution_count": 1,
   "metadata": {},
   "outputs": [],
   "source": [
    "import warnings\n",
    "warnings.filterwarnings('ignore')\n",
    "\n",
    "import pandas as pd\n",
    "import matplotlib.pyplot as plt\n",
    "import librosa\n",
    "import seaborn as sns\n",
    "import math\n",
    "from sklearn.metrics import mean_squared_error\n",
    "\n",
    "from sklearn.linear_model import LinearRegression, Ridge, Lasso, ElasticNet, Lars, BayesianRidge, SGDRegressor, RANSACRegressor\n",
    "from sklearn.kernel_ridge import KernelRidge\n",
    "from sklearn.tree import DecisionTreeRegressor\n",
    "from sklearn.svm import SVR\n",
    "from sklearn.neighbors import KNeighborsRegressor\n",
    "from sklearn.ensemble import RandomForestRegressor, ExtraTreesRegressor, AdaBoostRegressor, GradientBoostingRegressor, VotingRegressor, StackingRegressor\n",
    "from xgboost import XGBRegressor\n",
    "#from lightgbm import LGBMRegressor\n",
    "from sklearn.neural_network import MLPRegressor\n",
    "\n"
   ]
  },
  {
   "cell_type": "code",
   "execution_count": 2,
   "metadata": {},
   "outputs": [],
   "source": [
    "from sklearn.model_selection import train_test_split\n",
    "# load features\n",
    "features = pd.read_csv('features.csv')\n",
    "\n",
    "#load labels\n",
    "labels = pd.read_csv('collaboration_scores.csv')\n",
    "\n",
    "target = labels['Total']\n",
    "\n",
    "features_pca = features[['pca_group_feature1', 'pca_group_feature2', 'pca_group_feature3',\n",
    "       'pca_group_feature4']]\n",
    "\n",
    "X_train, X_test, y_train, y_test = train_test_split(features_pca, target, test_size=0.3, random_state=0)\n"
   ]
  },
  {
   "cell_type": "code",
   "execution_count": 8,
   "metadata": {},
   "outputs": [
    {
     "data": {
      "text/plain": [
       "Index(['u1_add', 'u1_del', 'u1_speak', 'u2_add', 'u2_del', 'u2_speak',\n",
       "       'u3_add', 'u3_del', 'u3_speak', 'u4_add', 'u4_del', 'u4_speak',\n",
       "       'group-no-speak', 'group-add', 'group-del', 'group-speak',\n",
       "       'avg_group-add', 'avg_group-del', 'avg_group-speak',\n",
       "       'pca_group_feature1', 'pca_group_feature2', 'pca_group_feature3',\n",
       "       'pca_group_feature4'],\n",
       "      dtype='object')"
      ]
     },
     "execution_count": 8,
     "metadata": {},
     "output_type": "execute_result"
    }
   ],
   "source": [
    "features.columns"
   ]
  },
  {
   "cell_type": "code",
   "execution_count": 9,
   "metadata": {},
   "outputs": [
    {
     "data": {
      "text/plain": [
       "Index(['ARG', 'CF', 'CO', 'ITO', 'KE', 'SMU', 'STR', 'Total'], dtype='object')"
      ]
     },
     "execution_count": 9,
     "metadata": {},
     "output_type": "execute_result"
    }
   ],
   "source": [
    "labels.columns"
   ]
  },
  {
   "cell_type": "markdown",
   "metadata": {},
   "source": [
    "## Preparing Regressor models with default parameters\n"
   ]
  },
  {
   "cell_type": "code",
   "execution_count": 3,
   "metadata": {},
   "outputs": [],
   "source": [
    "seed = 40\n",
    "\n",
    "\n",
    "linear = LinearRegression(n_jobs = -1)\n",
    "lasso = Lasso(random_state = seed)\n",
    "ridge = Ridge(random_state = seed)\n",
    "kr = KernelRidge()\n",
    "elnt = ElasticNet(random_state = seed)\n",
    "dt = DecisionTreeRegressor(random_state = seed)\n",
    "svm = SVR()\n",
    "knn = KNeighborsRegressor(n_jobs = -1)\n",
    "rf =  RandomForestRegressor(n_jobs = -1, random_state = seed)\n",
    "et = ExtraTreesRegressor(n_jobs = -1, random_state = seed)\n",
    "ab = AdaBoostRegressor(random_state = seed)\n",
    "gb = GradientBoostingRegressor(random_state = seed)\n",
    "xgb = XGBRegressor(random_state = seed, n_jobs = -1)\n",
    "\n",
    "lars = Lars()\n",
    "bayesian = BayesianRidge()\n",
    "sgd = SGDRegressor()\n",
    "ransac = RANSACRegressor()\n",
    "\n",
    "\n",
    "\n",
    "voting = VotingRegressor(estimators=[('ad', ab), ('svm', svm), ('gb', gb)])\n",
    "mlp = MLPRegressor(hidden_layer_sizes=(5,4,3))\n",
    "\n",
    "# stacking = StackingRegressor()"
   ]
  },
  {
   "cell_type": "code",
   "execution_count": 27,
   "metadata": {},
   "outputs": [
    {
     "name": "stdout",
     "output_type": "stream",
     "text": [
      "##################################################\n",
      "                Performance on Entire Dataset \n",
      "##################################################\n",
      "Linear Regression  : R2-> 0.00838165055668838  MSE-> 46.65347263110361\n",
      "Lasso Regression  : R2-> 0.007935165485002282  MSE-> 46.67447877634467\n",
      "Ridge Regression  : R2-> 0.00838165052150075  MSE-> 46.65347263275911\n",
      "Kernel Ridge Regression  : R2-> -0.0714500779090983  MSE-> 50.40938069912509\n",
      "Elastic Net  : R2-> 0.008264511315046352  MSE-> 46.65898377599826\n",
      "Decision Tree  : R2-> 1.0  MSE-> 0.0\n",
      "SVM  : R2-> 0.05995462397144579  MSE-> 44.22707712817573\n",
      "KNN  : R2-> 0.543627601705508  MSE-> 21.471322314049587\n",
      "Random Forest  : R2-> 0.9151114213910023  MSE-> 3.993821797520661\n",
      "Extra Trees Regressor  : R2-> 1.0  MSE-> 0.0\n",
      "Adaboost Regressor  : R2-> 0.7085434258171415  MSE-> 13.712393799921852\n",
      "Gradient Boost Regressor  : R2-> 0.9426973357394909  MSE-> 2.695964914594201\n",
      "[13:40:41] WARNING: src/objective/regression_obj.cu:152: reg:linear is now deprecated in favor of reg:squarederror.\n",
      "XGB Regressor  : R2-> 0.9043094606577773  MSE-> 4.502030403899003\n",
      "Lars  : R2-> 0.00838165055668838  MSE-> 46.65347263110361\n",
      "Bayesian Ridge  : R2-> 0.0004247320309217484  MSE-> 47.02782822958379\n",
      "SGD Regressor  : R2-> -2.745565769933216e+22  MSE-> 1.2917285927230293e+24\n",
      "RANSAC Regressor  : R2-> -25.764089956698413  MSE-> 1259.1918443140971\n",
      "Voting  : R2-> 0.7167754714078254  MSE-> 13.325094075306458\n",
      "Neural Net  : R2-> -0.033076124026858666  MSE-> 48.60397017178122\n"
     ]
    }
   ],
   "source": [
    "regression_models = [linear,lasso,ridge,kr,elnt,dt,svm,knn,rf,et,ab,gb,xgb,lars,bayesian,sgd,ransac,voting,mlp]\n",
    "regression_labels = ['Linear Regression','Lasso Regression','Ridge Regression','Kernel Ridge Regression','Elastic Net','Decision Tree','SVM','KNN','Random Forest','Extra Trees Regressor','Adaboost Regressor','Gradient Boost Regressor','XGB Regressor','Lars','Bayesian Ridge','SGD Regressor','RANSAC Regressor','Voting','Neural Net']\n",
    "\n",
    "print('#'*50)\n",
    "print('                Performance on Entire Dataset ')\n",
    "print('#'*50)\n",
    "for i in range(len(regression_models)):\n",
    "    regression_models[i].fit(features_pca,target)\n",
    "    print(regression_labels[i],' : R2->',regression_models[i].score(features_pca,target),' MSE->',mean_squared_error(target,regression_models[i].predict(features_pca)))\n",
    "\n",
    "\n"
   ]
  },
  {
   "cell_type": "code",
   "execution_count": 28,
   "metadata": {},
   "outputs": [
    {
     "name": "stdout",
     "output_type": "stream",
     "text": [
      "##################################################\n",
      "                Performance Train Test Split Dataset (Ratio 70:30) \n",
      "##################################################\n",
      "Linear Regression  : R2-> -0.04320516875712221  MSE-> 45.08557093793849\n",
      "Lasso Regression  : R2-> -0.041126889298746416  MSE-> 44.995751198968925\n",
      "Ridge Regression  : R2-> -0.043204535538092115  MSE-> 45.085543571278166\n",
      "Kernel Ridge Regression  : R2-> -0.15830639888434783  MSE-> 50.06005230686009\n",
      "Elastic Net  : R2-> -0.04205280274856249  MSE-> 45.03576761929956\n",
      "Decision Tree  : R2-> -0.23070942498526392  MSE-> 53.189189189189186\n",
      "SVM  : R2-> -0.007311590272427004  MSE-> 43.53431091023347\n",
      "KNN  : R2-> 0.39831723100520355  MSE-> 26.00371621621622\n",
      "Random Forest  : R2-> 0.22548286871444045  MSE-> 33.47332635135135\n",
      "Extra Trees Regressor  : R2-> 0.20619442594654436  MSE-> 34.30694037162162\n",
      "Adaboost Regressor  : R2-> 0.29497207764118427  MSE-> 30.470119741264718\n",
      "Gradient Boost Regressor  : R2-> 0.20362583533919376  MSE-> 34.41795053290773\n",
      "[13:40:50] WARNING: src/objective/regression_obj.cu:152: reg:linear is now deprecated in favor of reg:squarederror.\n",
      "XGB Regressor  : R2-> 0.22925817497231393  MSE-> 33.31016397140975\n",
      "Lars  : R2-> -0.04320516875712221  MSE-> 45.08557093793849\n",
      "Bayesian Ridge  : R2-> -0.003648447466838567  MSE-> 43.37599604584882\n",
      "SGD Regressor  : R2-> -1.1654081932211935e+23  MSE-> 5.036697990073118e+24\n",
      "RANSAC Regressor  : R2-> -9.488396159145099  MSE-> 453.2908225730161\n",
      "Voting  : R2-> 0.30434838128268793  MSE-> 30.064891684862047\n",
      "Neural Net  : R2-> 0.265112850154421  MSE-> 31.760585278940685\n"
     ]
    }
   ],
   "source": [
    "\n",
    "print('#'*50)\n",
    "print('                Performance Train Test Split Dataset (Ratio 70:30) ')\n",
    "print('#'*50)\n",
    "for i in range(len(regression_models)):\n",
    "    regression_models[i].fit(X_train,y_train)\n",
    "    print(regression_labels[i],' : R2->',regression_models[i].score(X_test,y_test),' MSE->',mean_squared_error(y_test,regression_models[i].predict(X_test)))\n",
    "\n"
   ]
  },
  {
   "cell_type": "markdown",
   "metadata": {},
   "source": [
    "## Tweaking parameters of selected regression models for further analysis\n",
    "We selected following regression models for further analysis\n",
    "\n",
    " * KNN\n",
    " * Random Forest\n",
    " * AdaBoost\n",
    " * Gradient Boost\n",
    " * XGB Boost\n",
    " * Voting\n",
    " * Neural Network\n",
    " * SVM"
   ]
  },
  {
   "cell_type": "code",
   "execution_count": 3,
   "metadata": {},
   "outputs": [],
   "source": [
    "from sklearn.model_selection import GridSearchCV"
   ]
  },
  {
   "cell_type": "markdown",
   "metadata": {},
   "source": [
    "### K-Nearest Neighbor Regression Model\n"
   ]
  },
  {
   "cell_type": "code",
   "execution_count": 37,
   "metadata": {},
   "outputs": [
    {
     "data": {
      "text/plain": [
       "{'algorithm': 'auto', 'n_neighbors': 5}"
      ]
     },
     "execution_count": 37,
     "metadata": {},
     "output_type": "execute_result"
    }
   ],
   "source": [
    "params = {'n_neighbors':[2,3,4,5],'algorithm':['auto', 'ball_tree', 'kd_tree', 'brute']}\n",
    "\n",
    "gd = GridSearchCV(KNeighborsRegressor(),params,cv=3)\n",
    "gd.fit(X_train,y_train)\n",
    "gd.best_params_"
   ]
  },
  {
   "cell_type": "code",
   "execution_count": 41,
   "metadata": {},
   "outputs": [
    {
     "name": "stdout",
     "output_type": "stream",
     "text": [
      "Training R2 score: 0.5115888054393032\n",
      "Training MSE: 23.79208333333333\n",
      "Test R2 score: 0.39831723100520355\n",
      "Training MSE: 26.00371621621622\n"
     ]
    }
   ],
   "source": [
    "knn2 = KNeighborsRegressor(n_neighbors=5)\n",
    "knn2.fit(X_train,y_train)\n",
    "print('Training R2 score:',knn2.score(X_train,y_train))\n",
    "print('Training MSE:',mean_squared_error(y_train,knn2.predict(X_train)))\n",
    "print('Test R2 score:',knn2.score(X_test,y_test))\n",
    "print('Training MSE:',mean_squared_error(y_test,knn2.predict(X_test)))"
   ]
  },
  {
   "cell_type": "markdown",
   "metadata": {},
   "source": [
    "### Random Forest Regression Model"
   ]
  },
  {
   "cell_type": "code",
   "execution_count": 40,
   "metadata": {},
   "outputs": [
    {
     "data": {
      "text/plain": [
       "{'max_depth': 2, 'min_samples_split': 5, 'n_estimators': 50}"
      ]
     },
     "execution_count": 40,
     "metadata": {},
     "output_type": "execute_result"
    }
   ],
   "source": [
    "params = {'max_depth':[2,3,4,5,6],'n_estimators':[50,100,150,200],'min_samples_split':[3,4,5]}\n",
    "\n",
    "gd = GridSearchCV(RandomForestRegressor(),params,cv=3)\n",
    "gd.fit(X_train,y_train)\n",
    "gd.best_params_"
   ]
  },
  {
   "cell_type": "code",
   "execution_count": 44,
   "metadata": {},
   "outputs": [
    {
     "name": "stdout",
     "output_type": "stream",
     "text": [
      "Training R2 score: 0.5132177403474538\n",
      "Training MSE: 23.71273266424362\n",
      "Test R2 score: 0.4520852766790534\n",
      "Training MSE: 23.67995181202828\n"
     ]
    }
   ],
   "source": [
    "knn2 = RandomForestRegressor(n_estimators=50,max_depth=2,min_samples_split=5,random_state=seed)\n",
    "knn2.fit(X_train,y_train)\n",
    "print('Training R2 score:',knn2.score(X_train,y_train))\n",
    "print('Training MSE:',mean_squared_error(y_train,knn2.predict(X_train)))\n",
    "print('Test R2 score:',knn2.score(X_test,y_test))\n",
    "print('Training MSE:',mean_squared_error(y_test,knn2.predict(X_test)))"
   ]
  },
  {
   "cell_type": "markdown",
   "metadata": {},
   "source": [
    "### AdaBoost Regression Model"
   ]
  },
  {
   "cell_type": "code",
   "execution_count": 45,
   "metadata": {},
   "outputs": [
    {
     "data": {
      "text/plain": [
       "{'learning_rate': 0.001, 'loss': 'linear', 'n_estimators': 100}"
      ]
     },
     "execution_count": 45,
     "metadata": {},
     "output_type": "execute_result"
    }
   ],
   "source": [
    "params = {'learning_rate':[.01,.001,.0001],'n_estimators':[50,100,150,200],'loss':['linear', 'square', 'exponential']}\n",
    "\n",
    "gd = GridSearchCV(AdaBoostRegressor(),params,cv=3)\n",
    "gd.fit(X_train,y_train)\n",
    "gd.best_params_"
   ]
  },
  {
   "cell_type": "code",
   "execution_count": 46,
   "metadata": {},
   "outputs": [
    {
     "name": "stdout",
     "output_type": "stream",
     "text": [
      "Training R2 score: 0.6701598308845572\n",
      "Training MSE: 16.067577642920146\n",
      "Test R2 score: 0.35855731373950617\n",
      "Training MSE: 27.72207289624003\n"
     ]
    }
   ],
   "source": [
    "knn2 = AdaBoostRegressor(n_estimators=100,learning_rate=.001,loss='linear',random_state=seed)\n",
    "knn2.fit(X_train,y_train)\n",
    "print('Training R2 score:',knn2.score(X_train,y_train))\n",
    "print('Training MSE:',mean_squared_error(y_train,knn2.predict(X_train)))\n",
    "print('Test R2 score:',knn2.score(X_test,y_test))\n",
    "print('Training MSE:',mean_squared_error(y_test,knn2.predict(X_test)))"
   ]
  },
  {
   "cell_type": "markdown",
   "metadata": {},
   "source": [
    "### Gradient Boost Regression Model"
   ]
  },
  {
   "cell_type": "code",
   "execution_count": 49,
   "metadata": {},
   "outputs": [
    {
     "data": {
      "text/plain": [
       "{'learning_rate': 0.01,\n",
       " 'loss': 'lad',\n",
       " 'min_samples_split': 3,\n",
       " 'n_estimators': 100}"
      ]
     },
     "execution_count": 49,
     "metadata": {},
     "output_type": "execute_result"
    }
   ],
   "source": [
    "params = {'learning_rate':[.01,.001,.0001],'n_estimators':[50,100,150,200],'loss':['ls', 'lad', 'huber', 'quantile'],'min_samples_split':[3,4,5]}\n",
    "\n",
    "gd = GridSearchCV(GradientBoostingRegressor(),params,cv=3)\n",
    "gd.fit(X_train,y_train)\n",
    "gd.best_params_"
   ]
  },
  {
   "cell_type": "code",
   "execution_count": 50,
   "metadata": {},
   "outputs": [
    {
     "name": "stdout",
     "output_type": "stream",
     "text": [
      "Training R2 score: 0.06855122996456253\n",
      "Training MSE: 45.373871451384005\n",
      "Test R2 score: 0.0683421853651367\n",
      "Training MSE: 40.26468210625237\n"
     ]
    }
   ],
   "source": [
    "knn2 = GradientBoostingRegressor(n_estimators=100,learning_rate=.001,loss='lad',min_samples_split=3,random_state=seed)\n",
    "knn2.fit(X_train,y_train)\n",
    "print('Training R2 score:',knn2.score(X_train,y_train))\n",
    "print('Training MSE:',mean_squared_error(y_train,knn2.predict(X_train)))\n",
    "print('Test R2 score:',knn2.score(X_test,y_test))\n",
    "print('Training MSE:',mean_squared_error(y_test,knn2.predict(X_test)))"
   ]
  },
  {
   "cell_type": "code",
   "execution_count": null,
   "metadata": {},
   "outputs": [],
   "source": []
  },
  {
   "cell_type": "markdown",
   "metadata": {},
   "source": [
    "### XGB Boost Regression Model"
   ]
  },
  {
   "cell_type": "code",
   "execution_count": 54,
   "metadata": {},
   "outputs": [
    {
     "name": "stdout",
     "output_type": "stream",
     "text": [
      "[14:24:47] WARNING: src/objective/regression_obj.cu:152: reg:linear is now deprecated in favor of reg:squarederror.\n",
      "[14:24:47] WARNING: src/objective/regression_obj.cu:152: reg:linear is now deprecated in favor of reg:squarederror.\n",
      "[14:24:47] WARNING: src/objective/regression_obj.cu:152: reg:linear is now deprecated in favor of reg:squarederror.\n",
      "[14:24:48] WARNING: src/objective/regression_obj.cu:152: reg:linear is now deprecated in favor of reg:squarederror.\n",
      "[14:24:48] WARNING: src/objective/regression_obj.cu:152: reg:linear is now deprecated in favor of reg:squarederror.\n",
      "[14:24:48] WARNING: src/objective/regression_obj.cu:152: reg:linear is now deprecated in favor of reg:squarederror.\n",
      "[14:24:48] WARNING: src/objective/regression_obj.cu:152: reg:linear is now deprecated in favor of reg:squarederror.\n",
      "[14:24:48] WARNING: src/objective/regression_obj.cu:152: reg:linear is now deprecated in favor of reg:squarederror.\n",
      "[14:24:48] WARNING: src/objective/regression_obj.cu:152: reg:linear is now deprecated in favor of reg:squarederror.\n",
      "[14:24:48] WARNING: src/objective/regression_obj.cu:152: reg:linear is now deprecated in favor of reg:squarederror.\n",
      "[14:24:48] WARNING: src/objective/regression_obj.cu:152: reg:linear is now deprecated in favor of reg:squarederror.\n",
      "[14:24:48] WARNING: src/objective/regression_obj.cu:152: reg:linear is now deprecated in favor of reg:squarederror.\n",
      "[14:24:48] WARNING: src/objective/regression_obj.cu:152: reg:linear is now deprecated in favor of reg:squarederror.\n",
      "[14:24:48] WARNING: src/objective/regression_obj.cu:152: reg:linear is now deprecated in favor of reg:squarederror.\n",
      "[14:24:48] WARNING: src/objective/regression_obj.cu:152: reg:linear is now deprecated in favor of reg:squarederror.\n",
      "[14:24:48] WARNING: src/objective/regression_obj.cu:152: reg:linear is now deprecated in favor of reg:squarederror.\n",
      "[14:24:48] WARNING: src/objective/regression_obj.cu:152: reg:linear is now deprecated in favor of reg:squarederror.\n",
      "[14:24:48] WARNING: src/objective/regression_obj.cu:152: reg:linear is now deprecated in favor of reg:squarederror.\n",
      "[14:24:48] WARNING: src/objective/regression_obj.cu:152: reg:linear is now deprecated in favor of reg:squarederror.\n",
      "[14:24:48] WARNING: src/objective/regression_obj.cu:152: reg:linear is now deprecated in favor of reg:squarederror.\n",
      "[14:24:48] WARNING: src/objective/regression_obj.cu:152: reg:linear is now deprecated in favor of reg:squarederror.\n",
      "[14:24:48] WARNING: src/objective/regression_obj.cu:152: reg:linear is now deprecated in favor of reg:squarederror.\n",
      "[14:24:48] WARNING: src/objective/regression_obj.cu:152: reg:linear is now deprecated in favor of reg:squarederror.\n",
      "[14:24:48] WARNING: src/objective/regression_obj.cu:152: reg:linear is now deprecated in favor of reg:squarederror.\n",
      "[14:24:48] WARNING: src/objective/regression_obj.cu:152: reg:linear is now deprecated in favor of reg:squarederror.\n",
      "[14:24:48] WARNING: src/objective/regression_obj.cu:152: reg:linear is now deprecated in favor of reg:squarederror.\n",
      "[14:24:48] WARNING: src/objective/regression_obj.cu:152: reg:linear is now deprecated in favor of reg:squarederror.\n",
      "[14:24:48] WARNING: src/objective/regression_obj.cu:152: reg:linear is now deprecated in favor of reg:squarederror.\n",
      "[14:24:48] WARNING: src/objective/regression_obj.cu:152: reg:linear is now deprecated in favor of reg:squarederror.\n",
      "[14:24:48] WARNING: src/objective/regression_obj.cu:152: reg:linear is now deprecated in favor of reg:squarederror.\n",
      "[14:24:48] WARNING: src/objective/regression_obj.cu:152: reg:linear is now deprecated in favor of reg:squarederror.\n",
      "[14:24:48] WARNING: src/objective/regression_obj.cu:152: reg:linear is now deprecated in favor of reg:squarederror.\n",
      "[14:24:48] WARNING: src/objective/regression_obj.cu:152: reg:linear is now deprecated in favor of reg:squarederror.\n",
      "[14:24:48] WARNING: src/objective/regression_obj.cu:152: reg:linear is now deprecated in favor of reg:squarederror.\n",
      "[14:24:48] WARNING: src/objective/regression_obj.cu:152: reg:linear is now deprecated in favor of reg:squarederror.\n",
      "[14:24:48] WARNING: src/objective/regression_obj.cu:152: reg:linear is now deprecated in favor of reg:squarederror.\n",
      "[14:24:48] WARNING: src/objective/regression_obj.cu:152: reg:linear is now deprecated in favor of reg:squarederror.\n",
      "[14:24:48] WARNING: src/objective/regression_obj.cu:152: reg:linear is now deprecated in favor of reg:squarederror.\n",
      "[14:24:48] WARNING: src/objective/regression_obj.cu:152: reg:linear is now deprecated in favor of reg:squarederror.\n",
      "[14:24:48] WARNING: src/objective/regression_obj.cu:152: reg:linear is now deprecated in favor of reg:squarederror.\n",
      "[14:24:48] WARNING: src/objective/regression_obj.cu:152: reg:linear is now deprecated in favor of reg:squarederror.\n",
      "[14:24:48] WARNING: src/objective/regression_obj.cu:152: reg:linear is now deprecated in favor of reg:squarederror.\n",
      "[14:24:48] WARNING: src/objective/regression_obj.cu:152: reg:linear is now deprecated in favor of reg:squarederror.\n",
      "[14:24:48] WARNING: src/objective/regression_obj.cu:152: reg:linear is now deprecated in favor of reg:squarederror.\n",
      "[14:24:48] WARNING: src/objective/regression_obj.cu:152: reg:linear is now deprecated in favor of reg:squarederror.\n",
      "[14:24:48] WARNING: src/objective/regression_obj.cu:152: reg:linear is now deprecated in favor of reg:squarederror.\n"
     ]
    },
    {
     "data": {
      "text/plain": [
       "{'booster': 'gbtree', 'max_depth': 2}"
      ]
     },
     "execution_count": 54,
     "metadata": {},
     "output_type": "execute_result"
    }
   ],
   "source": [
    "params={'booster':['gbtree', 'gblinear','dart'],'max_depth':[2,3,4,5,6]}\n",
    "gd = GridSearchCV(XGBRegressor(),params,cv=3)\n",
    "gd.fit(X_train,y_train)\n",
    "gd.best_params_\n"
   ]
  },
  {
   "cell_type": "code",
   "execution_count": 56,
   "metadata": {},
   "outputs": [
    {
     "name": "stdout",
     "output_type": "stream",
     "text": [
      "[14:26:09] WARNING: src/objective/regression_obj.cu:152: reg:linear is now deprecated in favor of reg:squarederror.\n",
      "Training R2 score: 0.8278436177689543\n",
      "Training MSE: 8.386292202189075\n",
      "Test R2 score: 0.23137208649717197\n",
      "Training MSE: 33.21880427452091\n"
     ]
    }
   ],
   "source": [
    "knn2 = XGBRegressor(booster='gbtree',max_depth=2,random_state=seed)\n",
    "knn2.fit(X_train,y_train)\n",
    "print('Training R2 score:',knn2.score(X_train,y_train))\n",
    "print('Training MSE:',mean_squared_error(y_train,knn2.predict(X_train)))\n",
    "print('Test R2 score:',knn2.score(X_test,y_test))\n",
    "print('Training MSE:',mean_squared_error(y_test,knn2.predict(X_test)))"
   ]
  },
  {
   "cell_type": "markdown",
   "metadata": {},
   "source": [
    "### Voting Regression Model"
   ]
  },
  {
   "cell_type": "code",
   "execution_count": 58,
   "metadata": {},
   "outputs": [
    {
     "name": "stdout",
     "output_type": "stream",
     "text": [
      "Training R2 score: 0.5985134939642538\n",
      "Training MSE: 19.55770161534293\n",
      "Test R2 score: 0.45770503541989926\n",
      "Training MSE: 23.437075301297057\n"
     ]
    }
   ],
   "source": [
    "k = KNeighborsRegressor(n_neighbors=5)\n",
    "a = AdaBoostRegressor(n_estimators=100,learning_rate=.001,loss='linear',random_state=seed)\n",
    "r = RandomForestRegressor(n_estimators=50,max_depth=2,min_samples_split=5,random_state=seed)\n",
    "\n",
    "knn2 = VotingRegressor([('knn',k),('ada',a),('rand',r)])\n",
    "knn2.fit(X_train,y_train)\n",
    "print('Training R2 score:',knn2.score(X_train,y_train))\n",
    "print('Training MSE:',mean_squared_error(y_train,knn2.predict(X_train)))\n",
    "print('Test R2 score:',knn2.score(X_test,y_test))\n",
    "print('Training MSE:',mean_squared_error(y_test,knn2.predict(X_test)))"
   ]
  },
  {
   "cell_type": "code",
   "execution_count": 5,
   "metadata": {},
   "outputs": [
    {
     "name": "stdout",
     "output_type": "stream",
     "text": [
      "Training R2 score: 0.6464942560275677\n",
      "Training MSE: 17.22040406336117\n",
      "Test R2 score: 0.5036979855472428\n",
      "Training MSE: 21.449337435617256\n"
     ]
    }
   ],
   "source": [
    "k = KNeighborsRegressor(n_neighbors=5)\n",
    "\n",
    "r = RandomForestRegressor(n_estimators=50,max_depth=2,min_samples_split=5,random_state=seed)\n",
    "\n",
    "s = SVR(C=50,gamma=.1,kernel='rbf')\n",
    "knn2 = VotingRegressor([('knn',k),('ada',a),('rand',r),('svm',s)])\n",
    "knn2.fit(X_train,y_train)\n",
    "print('Training R2 score:',knn2.score(X_train,y_train))\n",
    "print('Training MSE:',mean_squared_error(y_train,knn2.predict(X_train)))\n",
    "print('Test R2 score:',knn2.score(X_test,y_test))\n",
    "print('Training MSE:',mean_squared_error(y_test,knn2.predict(X_test)))"
   ]
  },
  {
   "cell_type": "markdown",
   "metadata": {},
   "source": [
    "### Neural Network based Regression Model"
   ]
  },
  {
   "cell_type": "code",
   "execution_count": 64,
   "metadata": {},
   "outputs": [
    {
     "data": {
      "text/plain": [
       "{'activation': 'tanh', 'hidden_layer_sizes': (5, 5), 'solver': 'lbfgs'}"
      ]
     },
     "execution_count": 64,
     "metadata": {},
     "output_type": "execute_result"
    }
   ],
   "source": [
    "params={'solver':['lbfgs'],'activation':['identity', 'logistic', 'tanh', 'relu'],'hidden_layer_sizes':[(5,5),(5,5,5),(5,4,3),(10,10,5)]}\n",
    "gd = GridSearchCV(MLPRegressor(),params,cv=3)\n",
    "gd.fit(X_train,y_train)\n",
    "gd.best_params_\n"
   ]
  },
  {
   "cell_type": "code",
   "execution_count": 65,
   "metadata": {},
   "outputs": [
    {
     "name": "stdout",
     "output_type": "stream",
     "text": [
      "Training R2 score: 0.5272545283298837\n",
      "Training MSE: 23.02895548401193\n",
      "Test R2 score: 0.05514590633742911\n",
      "Training MSE: 40.83500306711319\n"
     ]
    }
   ],
   "source": [
    "knn2 = MLPRegressor(activation='tanh',hidden_layer_sizes=(5,5),solver='lbfgs')\n",
    "knn2.fit(X_train,y_train)\n",
    "print('Training R2 score:',knn2.score(X_train,y_train))\n",
    "print('Training MSE:',mean_squared_error(y_train,knn2.predict(X_train)))\n",
    "print('Test R2 score:',knn2.score(X_test,y_test))\n",
    "print('Training MSE:',mean_squared_error(y_test,knn2.predict(X_test)))"
   ]
  },
  {
   "cell_type": "markdown",
   "metadata": {},
   "source": [
    "### Support Vector Machine"
   ]
  },
  {
   "cell_type": "code",
   "execution_count": 4,
   "metadata": {},
   "outputs": [
    {
     "data": {
      "text/plain": [
       "{'C': 50, 'gamma': 0.1, 'kernel': 'rbf'}"
      ]
     },
     "execution_count": 4,
     "metadata": {},
     "output_type": "execute_result"
    }
   ],
   "source": [
    "# SVM\n",
    "#svr_rbf = SVR(kernel='rbf', C=100, gamma=0.1, epsilon=.1)\n",
    "import numpy as np\n",
    "\n",
    "k=['rbf', 'linear','poly','sigmoid']\n",
    "c= [1,10,100,.1,50,60]\n",
    "g=np.arange(1e-4,1e-2,0.0001)\n",
    "g=[.000001,.00001,.0001,.001,.001,.01,.1]\n",
    "param_grid=dict(kernel=k, C=c, gamma=g)\n",
    "\n",
    "gd = GridSearchCV(SVR(),param_grid,cv=3)\n",
    "gd.fit(X_train,y_train)\n",
    "gd.best_params_"
   ]
  },
  {
   "cell_type": "code",
   "execution_count": 5,
   "metadata": {},
   "outputs": [
    {
     "name": "stdout",
     "output_type": "stream",
     "text": [
      "Training R2 score: 0.6571294013881686\n",
      "Training MSE: 16.702331858015587\n",
      "Test R2 score: 0.5395757979408062\n",
      "Training MSE: 19.898758791825422\n"
     ]
    }
   ],
   "source": [
    "knn2 = SVR(C=50,gamma=.1,kernel='rbf')\n",
    "knn2.fit(X_train,y_train)\n",
    "print('Training R2 score:',knn2.score(X_train,y_train))\n",
    "print('Training MSE:',mean_squared_error(y_train,knn2.predict(X_train)))\n",
    "print('Test R2 score:',knn2.score(X_test,y_test))\n",
    "print('Training MSE:',mean_squared_error(y_test,knn2.predict(X_test)))"
   ]
  },
  {
   "cell_type": "markdown",
   "metadata": {},
   "source": [
    "# R2 and MSE between human coders for each iterations"
   ]
  },
  {
   "cell_type": "code",
   "execution_count": 8,
   "metadata": {},
   "outputs": [],
   "source": [
    "c1v1 = pd.read_csv('../coder1.csv')\n",
    "c2v1 = pd.read_csv('../coder2.csv')\n",
    "\n",
    "c1v2 = pd.read_csv('../coder1v2.csv')\n",
    "c2v2 = pd.read_csv('../coder2v2.csv')\n",
    "\n",
    "c1v3 = pd.read_csv('../coder1v3.csv')\n",
    "c2v3 = pd.read_csv('../coder2v3.csv')\n",
    "\n",
    "c1v4 = pd.read_csv('../coder1final.csv')\n",
    "c2v4 = pd.read_csv('../coder2final.csv')"
   ]
  },
  {
   "cell_type": "code",
   "execution_count": 15,
   "metadata": {},
   "outputs": [],
   "source": [
    "\n",
    "from sklearn.metrics import mean_squared_error\n",
    "from sklearn.metrics import r2_score\n",
    "\n",
    "def computeFinalScore(rater1):\n",
    "    rater1['ITO'] = (rater1['u1'] + rater1['u2'] + rater1['u3'] + rater1['u4'])/4\n",
    "    rater1['final'] = 0\n",
    "    for dim in ['SMU','CF','KE','ARG','STR','CO','ITO']:\n",
    "        rater1['final'] = rater1['final'] + rater1[dim]\n",
    "    return rater1['final']\n",
    "\n",
    "def getMSEnR2(c1,c2):\n",
    "    final1 = computeFinalScore(c1)\n",
    "    final2 = computeFinalScore(c2)\n",
    "    mse = mean_squared_error(final1,final2)\n",
    "    r2 = r2_score(final1,final2)\n",
    "    return [mse,r2]"
   ]
  },
  {
   "cell_type": "code",
   "execution_count": 16,
   "metadata": {},
   "outputs": [],
   "source": [
    "first = getMSEnR2(c1v1,c2v1)\n",
    "second = getMSEnR2(c1v2,c2v2)\n",
    "third = getMSEnR2(c1v3,c2v3)\n",
    "forth = getMSEnR2(c1v4,c2v4)"
   ]
  },
  {
   "cell_type": "code",
   "execution_count": 17,
   "metadata": {},
   "outputs": [
    {
     "data": {
      "image/png": "[encoded data removed]",
      "text/plain": [
       "<Figure size 432x288 with 1 Axes>"
      ]
     },
     "metadata": {
      "needs_background": "light"
     },
     "output_type": "display_data"
    },
    {
     "data": {
      "image/png": "[encoded data removed]",
      "text/plain": [
       "<Figure size 432x288 with 1 Axes>"
      ]
     },
     "metadata": {
      "needs_background": "light"
     },
     "output_type": "display_data"
    }
   ],
   "source": [
    "plt.figure()\n",
    "plt.bar(['first','second','third','forth'],[first[0],second[0],third[0],forth[0]],color='k',label='MSE')\n",
    "plt.xlabel('Iterations')\n",
    "plt.ylabel('Mean Square Error')\n",
    "plt.title('MSE between human coders across four iterations')\n",
    "plt.show()\n",
    "plt.figure()\n",
    "plt.bar(['first','second','third','forth'],[first[1],second[1],third[1],forth[1]],color='k',label='R2')\n",
    "plt.xlabel('Iterations')\n",
    "plt.ylabel('R2 Scroe')\n",
    "plt.title('R2 between human coders across four iterations')\n",
    "plt.show()"
   ]
  },
  {
   "cell_type": "code",
   "execution_count": 14,
   "metadata": {},
   "outputs": [
    {
     "name": "stdout",
     "output_type": "stream",
     "text": [
      "Final:  2.0603682164846164 0.6564582631019371\n"
     ]
    }
   ],
   "source": [
    "print('Final: ',forth[0],forth[1])"
   ]
  },
  {
   "cell_type": "code",
   "execution_count": 18,
   "metadata": {},
   "outputs": [
    {
     "name": "stdout",
     "output_type": "stream",
     "text": [
      "[7.140625, 0.41368161757158994]\n",
      "[10.5375, -2.544995794785534]\n",
      "[15.2375, 0.35175091068627184]\n",
      "[4.2451171875, 0.6564582631019371]\n"
     ]
    }
   ],
   "source": [
    "print(first)\n",
    "print(second)\n",
    "print(third)\n",
    "print(forth)"
   ]
  },
  {
   "cell_type": "code",
   "execution_count": 7,
   "metadata": {},
   "outputs": [
    {
     "data": {
      "image/png": "[encoded data removed]",
      "text/plain": [
       "<Figure size 576x360 with 1 Axes>"
      ]
     },
     "metadata": {
      "needs_background": "light"
     },
     "output_type": "display_data"
    }
   ],
   "source": [
    "import numpy as np\n",
    "plt.figure(figsize=(8,5))\n",
    "train_error = [.51,.51,.67,.065,.82,.60,.52,.65]\n",
    "test_error = [.39,.45,.35,.068,.23,.45,.055,.53]\n",
    "x_label=['KNN','Random Forest','AdaBoost','Gradient Boost','XGBoost','Voting','Neural Net','SVM']\n",
    "\n",
    "x = np.arange(len(train_error))\n",
    "w=.3\n",
    "plt.xticks(x+w/2,x_label,rotation=90)\n",
    "\n",
    "\n",
    "\n",
    "\n",
    "plt.bar(x,train_error,label='Training score',width=w)\n",
    "plt.bar(x+w,test_error,label='Test score ',width=w)\n",
    "plt.ylabel(r'$R^2 Score$')\n",
    "plt.xlabel('Regression Methods')\n",
    "plt.xticks(rotation=90)\n",
    "plt.hlines(.65,-0.5,8,color='blue',linestyles='dashed',label='$R^2$ human-coders')\n",
    "plt.title('$R^2$ Score for various regression methods')\n",
    "plt.legend()\n",
    "\n",
    "plt.savefig('r2.png')"
   ]
  },
  {
   "cell_type": "code",
   "execution_count": 8,
   "metadata": {},
   "outputs": [
    {
     "data": {
      "image/png": "[encoded data removed]",
      "text/plain": [
       "<Figure size 576x360 with 1 Axes>"
      ]
     },
     "metadata": {
      "needs_background": "light"
     },
     "output_type": "display_data"
    }
   ],
   "source": [
    "plt.figure(figsize=(8,5))\n",
    "\n",
    "\n",
    "train_error = [23.8,23.7,16,45.3,8,19,23.02,16.7]\n",
    "test_error = [26,23.67,27,40.2,33,23.4,40.83,19.8]\n",
    "x_label=['KNN','Random Forest','AdaBoost','Gradient Boost','XGBoost','Voting','Neural Net','SVM']\n",
    "\n",
    "x = np.arange(len(train_error))\n",
    "w=.3\n",
    "plt.xticks(x+w/2,x_label,rotation=90)\n",
    "\n",
    "\n",
    "plt.bar(x,train_error,label='Training error',width=w)\n",
    "plt.bar(x+w,test_error,label='Test error',width=w)\n",
    "plt.ylabel('Mean Square Error')\n",
    "plt.xlabel('Regression Methods')\n",
    "plt.xticks(rotation=90)\n",
    "plt.hlines(4,-0.5,8,color='blue',linestyles='dashed',label='MSE human-coders')\n",
    "plt.title('MSE  for various regression methods')\n",
    "plt.legend()\n",
    "\n",
    "plt.savefig('mse.png')"
   ]
  },
  {
   "cell_type": "markdown",
   "metadata": {},
   "source": [
    "## Time Series Regression"
   ]
  },
  {
   "cell_type": "code",
   "execution_count": 49,
   "metadata": {},
   "outputs": [
    {
     "data": {
      "text/plain": [
       "SVR(C=50, cache_size=200, coef0=0.0, degree=3, epsilon=0.1, gamma=0.1,\n",
       "    kernel='rbf', max_iter=-1, shrinking=True, tol=0.001, verbose=False)"
      ]
     },
     "execution_count": 49,
     "metadata": {},
     "output_type": "execute_result"
    }
   ],
   "source": [
    "svm = SVR(C=50,gamma=.1,kernel='rbf')\n",
    "svm.fit(X_train,y_train)"
   ]
  },
  {
   "cell_type": "code",
   "execution_count": 47,
   "metadata": {},
   "outputs": [
    {
     "data": {
      "text/plain": [
       "pandas.core.frame.DataFrame"
      ]
     },
     "execution_count": 47,
     "metadata": {},
     "output_type": "execute_result"
    }
   ],
   "source": [
    "type(X_train)"
   ]
  },
  {
   "cell_type": "code",
   "execution_count": 48,
   "metadata": {},
   "outputs": [
    {
     "data": {
      "text/plain": [
       "pandas.core.series.Series"
      ]
     },
     "execution_count": 48,
     "metadata": {},
     "output_type": "execute_result"
    }
   ],
   "source": [
    "type(y_train)"
   ]
  },
  {
   "cell_type": "code",
   "execution_count": null,
   "metadata": {},
   "outputs": [],
   "source": [
    "predicted = []\n",
    "\n",
    "for i in range(len(X_test)):\n",
    "    "
   ]
  }
 ],
 "metadata": {
  "hide_input": false,
  "kernelspec": {
   "display_name": "Python 3",
   "language": "python",
   "name": "python3"
  },
  "language_info": {
   "codemirror_mode": {
    "name": "ipython",
    "version": 3
   },
   "file_extension": ".py",
   "mimetype": "text/x-python",
   "name": "python",
   "nbconvert_exporter": "python",
   "pygments_lexer": "ipython3",
   "version": "3.7.3"
  },
  "toc": {
   "base_numbering": 1,
   "nav_menu": {},
   "number_sections": true,
   "sideBar": true,
   "skip_h1_title": false,
   "title_cell": "Table of Contents",
   "title_sidebar": "Contents",
   "toc_cell": false,
   "toc_position": {},
   "toc_section_display": true,
   "toc_window_display": false
  }
 },
 "nbformat": 4,
 "nbformat_minor": 2
}
